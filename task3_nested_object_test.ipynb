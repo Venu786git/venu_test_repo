{
  "nbformat": 4,
  "nbformat_minor": 0,
  "metadata": {
    "colab": {
      "private_outputs": true,
      "provenance": []
    },
    "kernelspec": {
      "name": "python3",
      "display_name": "Python 3"
    },
    "language_info": {
      "name": "python"
    }
  },
  "cells": [
    {
      "cell_type": "code",
      "execution_count": null,
      "metadata": {
        "id": "KWCecVZfiQFk"
      },
      "outputs": [],
      "source": [
        "def get_obj(object, key):\n",
        "    val = key.split(\"/\")\n",
        "    for i in val:\n",
        "        object = object[i]\n",
        "    return object"
      ]
    },
    {
      "cell_type": "code",
      "source": [
        "obj_nested = {\n",
        "\"venue\": {\n",
        "  \"id\": \"412d2800f964a520df0c1fe3\",\n",
        "  \"name\": \"Central Park\",\n",
        "  \"contact\": {\n",
        "    \"phone\": \"2123106600\",\n",
        "    \"formattedPhone\": \"(212) 310-6600\",\n",
        "    \"twitter\": \"centralparknyc\",\n",
        "    \"instagram\": \"centralparknyc\",\n",
        "    \"facebook\": \"37965424481\",\n",
        "    \"facebookUsername\": \"centralparknyc\",\n",
        "    \"facebookName\": \"Central Park\"\n",
        "  }}}"
      ],
      "metadata": {
        "id": "6Ywm4eGPvoF-"
      },
      "execution_count": null,
      "outputs": []
    },
    {
      "cell_type": "code",
      "source": [
        "print(get_obj(obj_nested, \"venue/contact/facebookName\")) "
      ],
      "metadata": {
        "id": "mwI2vJxPiaqZ"
      },
      "execution_count": null,
      "outputs": []
    },
    {
      "cell_type": "code",
      "source": [
        "print(get_obj(obj_nested, \"venue\")) "
      ],
      "metadata": {
        "id": "FuZqZxOIiatx"
      },
      "execution_count": null,
      "outputs": []
    },
    {
      "cell_type": "code",
      "source": [
        "print(obj_nested.get(\"venue\"))"
      ],
      "metadata": {
        "id": "Ukn8FYG7v1oU"
      },
      "execution_count": null,
      "outputs": []
    }
  ]
}
